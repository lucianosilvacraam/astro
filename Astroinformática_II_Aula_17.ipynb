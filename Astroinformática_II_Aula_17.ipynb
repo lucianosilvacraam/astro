{
  "nbformat": 4,
  "nbformat_minor": 0,
  "metadata": {
    "colab": {
      "name": "Astroinformática II - Aula 17.ipynb",
      "provenance": [],
      "collapsed_sections": [],
      "include_colab_link": true
    },
    "kernelspec": {
      "name": "python3",
      "display_name": "Python 3"
    }
  },
  "cells": [
    {
      "cell_type": "markdown",
      "metadata": {
        "id": "view-in-github",
        "colab_type": "text"
      },
      "source": [
        "<a href=\"https://colab.research.google.com/github/lucianosilvacraam/astro/blob/master/Astroinform%C3%A1tica_II_Aula_17.ipynb\" target=\"_parent\"><img src=\"https://colab.research.google.com/assets/colab-badge.svg\" alt=\"Open In Colab\"/></a>"
      ]
    },
    {
      "cell_type": "markdown",
      "metadata": {
        "id": "JZIb-8vlrx00",
        "colab_type": "text"
      },
      "source": [
        "Aula 17: Matriz de Confusão e Curvas ROC"
      ]
    },
    {
      "cell_type": "code",
      "metadata": {
        "id": "iIJS9TGvrrg6",
        "colab_type": "code",
        "colab": {}
      },
      "source": [
        "!pip install astroml"
      ],
      "execution_count": 0,
      "outputs": []
    },
    {
      "cell_type": "markdown",
      "metadata": {
        "id": "nGG2_KhotoJa",
        "colab_type": "text"
      },
      "source": [
        "Matriz de Confusão"
      ]
    },
    {
      "cell_type": "code",
      "metadata": {
        "id": "MoC8n6Cbr2Ev",
        "colab_type": "code",
        "colab": {}
      },
      "source": [
        "from sklearn.datasets import load_iris\n",
        "from sklearn.model_selection import train_test_split as tts\n",
        "from sklearn.linear_model import LogisticRegression\n",
        "from yellowbrick.classifier import ConfusionMatrix\n",
        "\n",
        "iris = load_iris()\n",
        "X = iris.data\n",
        "y = iris.target\n",
        "classes = iris.target_names\n",
        "\n",
        "X_train, X_test, y_train, y_test = tts(X, y, test_size=0.2)\n",
        "\n",
        "model = LogisticRegression(multi_class=\"auto\", solver=\"liblinear\")\n",
        "\n",
        "iris_cm = ConfusionMatrix(\n",
        "    model, classes=classes,\n",
        "    label_encoder={0: 'setosa', 1: 'versicolor', 2: 'virginica'}\n",
        ")\n",
        "\n",
        "iris_cm.fit(X_train, y_train)\n",
        "iris_cm.score(X_test, y_test)\n",
        "\n",
        "iris_cm.draw()"
      ],
      "execution_count": 0,
      "outputs": []
    },
    {
      "cell_type": "markdown",
      "metadata": {
        "id": "9I-Mdad2ttOh",
        "colab_type": "text"
      },
      "source": [
        "Curvas ROC\n",
        "\n",
        "Teoria: https://pt.wikipedia.org/wiki/Caracter%C3%ADstica_de_Opera%C3%A7%C3%A3o_do_Receptor"
      ]
    },
    {
      "cell_type": "code",
      "metadata": {
        "id": "d2aHEaFctuPx",
        "colab_type": "code",
        "colab": {}
      },
      "source": [
        "# Author: Jake VanderPlas\n",
        "# License: BSD\n",
        "#   The figure produced by this code is published in the textbook\n",
        "#   \"Statistics, Data Mining, and Machine Learning in Astronomy\" (2013)\n",
        "#   For more information, see http://astroML.github.com\n",
        "#   To report a bug or issue, use the following forum:\n",
        "#    https://groups.google.com/forum/#!forum/astroml-general\n",
        "\n",
        "from __future__ import print_function\n",
        "\n",
        "import numpy as np\n",
        "from matplotlib import pyplot as plt\n",
        "\n",
        "from astroML.utils import split_samples\n",
        "\n",
        "from sklearn.metrics import roc_curve\n",
        "from sklearn.naive_bayes import GaussianNB\n",
        "from sklearn.discriminant_analysis import (LinearDiscriminantAnalysis,\n",
        "                                           QuadraticDiscriminantAnalysis)\n",
        "from sklearn.linear_model import LogisticRegression\n",
        "from sklearn.neighbors import KNeighborsClassifier\n",
        "from sklearn.tree import DecisionTreeClassifier\n",
        "from astroML.classification import GMMBayes\n",
        "\n",
        "\n",
        "#----------------------------------------------------------------------\n",
        "# This function adjusts matplotlib settings for a uniform feel in the textbook.\n",
        "# Note that with usetex=True, fonts are rendered with LaTeX.  This may\n",
        "# result in an error if LaTeX is not installed on your system.  In that case,\n",
        "# you can set usetex to False.\n",
        "if \"setup_text_plots\" not in globals():\n",
        "    from astroML.plotting import setup_text_plots\n",
        "setup_text_plots(fontsize=8, usetex=False)\n",
        "\n",
        "#------------------------------------------------------------\n",
        "# Fetch data and split into training and test samples\n",
        "from astroML.datasets import fetch_dr7_quasar\n",
        "from astroML.datasets import fetch_sdss_sspp\n",
        "\n",
        "quasars = fetch_dr7_quasar()\n",
        "stars = fetch_sdss_sspp()\n",
        "\n",
        "# Truncate data for speed\n",
        "quasars = quasars[::5]\n",
        "stars = stars[::5]\n",
        "\n",
        "# stack colors into matrix X\n",
        "Nqso = len(quasars)\n",
        "Nstars = len(stars)\n",
        "X = np.empty((Nqso + Nstars, 4), dtype=float)\n",
        "\n",
        "X[:Nqso, 0] = quasars['mag_u'] - quasars['mag_g']\n",
        "X[:Nqso, 1] = quasars['mag_g'] - quasars['mag_r']\n",
        "X[:Nqso, 2] = quasars['mag_r'] - quasars['mag_i']\n",
        "X[:Nqso, 3] = quasars['mag_i'] - quasars['mag_z']\n",
        "\n",
        "X[Nqso:, 0] = stars['upsf'] - stars['gpsf']\n",
        "X[Nqso:, 1] = stars['gpsf'] - stars['rpsf']\n",
        "X[Nqso:, 2] = stars['rpsf'] - stars['ipsf']\n",
        "X[Nqso:, 3] = stars['ipsf'] - stars['zpsf']\n",
        "\n",
        "y = np.zeros(Nqso + Nstars, dtype=int)\n",
        "y[:Nqso] = 1\n",
        "\n",
        "# split into training and test sets\n",
        "(X_train, X_test), (y_train, y_test) = split_samples(X, y, [0.9, 0.1],\n",
        "                                                     random_state=0)\n",
        "\n",
        "\n",
        "#------------------------------------------------------------\n",
        "# Compute fits for all the classifiers\n",
        "def compute_results(*args):\n",
        "    names = []\n",
        "    probs = []\n",
        "\n",
        "    for classifier, kwargs in args:\n",
        "        print(classifier.__name__)\n",
        "        model = classifier(**kwargs)\n",
        "        model.fit(X, y)\n",
        "        y_prob = model.predict_proba(X_test)\n",
        "\n",
        "        names.append(classifier.__name__)\n",
        "        probs.append(y_prob[:, 1])\n",
        "\n",
        "    return names, probs\n",
        "\n",
        "LRclass_weight = dict([(i, np.sum(y_train == i)) for i in (0, 1)])\n",
        "\n",
        "names, probs = compute_results((GaussianNB, {}),\n",
        "                               (LinearDiscriminantAnalysis, {}),\n",
        "                               (QuadraticDiscriminantAnalysis, {}),\n",
        "                               (LogisticRegression,\n",
        "                                dict(class_weight=LRclass_weight)),\n",
        "                               (KNeighborsClassifier,\n",
        "                                dict(n_neighbors=10)),\n",
        "                               (DecisionTreeClassifier,\n",
        "                                dict(random_state=0, max_depth=12,\n",
        "                                     criterion='entropy')),\n",
        "                               (GMMBayes, dict(n_components=3, tol=1E-5,\n",
        "                                               covariance_type='full')))\n",
        "\n",
        "#------------------------------------------------------------\n",
        "# Plot results\n",
        "fig = plt.figure(figsize=(5, 2.5))\n",
        "fig.subplots_adjust(left=0.1, right=0.95, bottom=0.15, top=0.9, wspace=0.25)\n",
        "\n",
        "# First axis shows the data\n",
        "ax1 = fig.add_subplot(121)\n",
        "im = ax1.scatter(X_test[:, 0], X_test[:, 1], c=y_test, s=4,\n",
        "                 linewidths=0, edgecolors='none',\n",
        "                 cmap=plt.cm.binary)\n",
        "im.set_clim(-0.5, 1)\n",
        "ax1.set_xlim(-0.5, 3.0)\n",
        "ax1.set_ylim(-0.3, 1.4)\n",
        "ax1.set_xlabel('$u - g$')\n",
        "ax1.set_ylabel('$g - r$')\n",
        "\n",
        "labels = dict(GaussianNB='GNB',\n",
        "              LinearDiscriminantAnalysis='LDA',\n",
        "              QuadraticDiscriminantAnalysis='QDA',\n",
        "              KNeighborsClassifier='KNN',\n",
        "              DecisionTreeClassifier='DT',\n",
        "              GMMBayes='GMMB',\n",
        "              LogisticRegression='LR')\n",
        "\n",
        "# Second axis shows the ROC curves\n",
        "ax2 = fig.add_subplot(122)\n",
        "for name, y_prob in zip(names, probs):\n",
        "    fpr, tpr, thresholds = roc_curve(y_test, y_prob)\n",
        "\n",
        "    fpr = np.concatenate([[0], fpr])\n",
        "    tpr = np.concatenate([[0], tpr])\n",
        "\n",
        "    ax2.plot(fpr, tpr, label=labels[name])\n",
        "\n",
        "ax2.legend(loc=4)\n",
        "ax2.set_xlabel('false positive rate')\n",
        "ax2.set_ylabel('true positive rate')\n",
        "ax2.set_xlim(0, 0.15)\n",
        "ax2.set_ylim(0.6, 1.01)\n",
        "ax2.xaxis.set_major_locator(plt.MaxNLocator(5))\n",
        "\n",
        "plt.show()"
      ],
      "execution_count": 0,
      "outputs": []
    }
  ]
}