{
  "nbformat": 4,
  "nbformat_minor": 0,
  "metadata": {
    "colab": {
      "name": "Astroinformática II - Aula 03.ipynb",
      "version": "0.3.2",
      "provenance": [],
      "toc_visible": true,
      "include_colab_link": true
    },
    "kernelspec": {
      "name": "python3",
      "display_name": "Python 3"
    }
  },
  "cells": [
    {
      "cell_type": "markdown",
      "metadata": {
        "id": "view-in-github",
        "colab_type": "text"
      },
      "source": [
        "<a href=\"https://colab.research.google.com/github/lucianosilvacraam/astro/blob/master/Astroinform%C3%A1tica_II_Aula_03.ipynb\" target=\"_parent\"><img src=\"https://colab.research.google.com/assets/colab-badge.svg\" alt=\"Open In Colab\"/></a>"
      ]
    },
    {
      "cell_type": "markdown",
      "metadata": {
        "id": "HWCUvs_z1ttG",
        "colab_type": "text"
      },
      "source": [
        "# Objetivo da Aula: continuar trabalhando com o modelo de trânsitos planetários e realizar ajustes com dados do simulador."
      ]
    },
    {
      "cell_type": "markdown",
      "metadata": {
        "id": "EAHAIdFL1-wG",
        "colab_type": "text"
      },
      "source": [
        "Instalação do módulo ktransit\n"
      ]
    },
    {
      "cell_type": "code",
      "metadata": {
        "id": "rl-Qio8WySou",
        "colab_type": "code",
        "colab": {
          "base_uri": "https://localhost:8080/",
          "height": 188
        },
        "outputId": "dca9c2a8-dc37-4e61-8aa1-b3840468a280"
      },
      "source": [
        "!pip install ktransit"
      ],
      "execution_count": 1,
      "outputs": [
        {
          "output_type": "stream",
          "text": [
            "Collecting ktransit\n",
            "  Downloading https://files.pythonhosted.org/packages/e3/99/587f6826711a51f06ba2e2227e119ac59a9f5cbfcada76cb9faf1956b766/ktransit-0.2.5.tar.gz\n",
            "Building wheels for collected packages: ktransit\n",
            "  Building wheel for ktransit (setup.py) ... \u001b[?25l\u001b[?25hdone\n",
            "  Created wheel for ktransit: filename=ktransit-0.2.5-cp36-cp36m-linux_x86_64.whl size=125722 sha256=6944afda230cd18c2cbac54e0400b484f29bdbf80471cb24e3092a8d45c7095e\n",
            "  Stored in directory: /root/.cache/pip/wheels/1f/07/3a/5ab602c06a4a0c4e9eec7addf2c88c9aca5c19694cfd8aec61\n",
            "Successfully built ktransit\n",
            "Installing collected packages: ktransit\n",
            "Successfully installed ktransit-0.2.5\n"
          ],
          "name": "stdout"
        }
      ]
    },
    {
      "cell_type": "markdown",
      "metadata": {
        "id": "pnGp-G_O2IqF",
        "colab_type": "text"
      },
      "source": [
        "Modelo genérico de trânsito"
      ]
    },
    {
      "cell_type": "code",
      "metadata": {
        "id": "L3AwjTBTyjsC",
        "colab_type": "code",
        "colab": {
          "base_uri": "https://localhost:8080/",
          "height": 286
        },
        "outputId": "bd53b1ab-d6db-4334-b20e-e92cdc0b48ab"
      },
      "source": [
        "import ktransit\n",
        "import matplotlib.pyplot as plt\n",
        "%matplotlib inline\n",
        "\n",
        "M = ktransit.LCModel()\n",
        "M.add_star()\n",
        "M.add_planet()\n",
        "M.add_data()\n",
        "\n",
        "tmod = M.transitmodel\n",
        "plt.plot(M.time,tmod)"
      ],
      "execution_count": 2,
      "outputs": [
        {
          "output_type": "execute_result",
          "data": {
            "text/plain": [
              "[<matplotlib.lines.Line2D at 0x7f6c37da30f0>]"
            ]
          },
          "metadata": {
            "tags": []
          },
          "execution_count": 2
        },
        {
          "output_type": "display_data",
          "data": {
            "image/png": "[encoded data removed]",
            "text/plain": [
              "<Figure size 432x288 with 1 Axes>"
            ]
          },
          "metadata": {
            "tags": []
          }
        }
      ]
    },
    {
      "cell_type": "markdown",
      "metadata": {
        "id": "pzOvXqDd2QSc",
        "colab_type": "text"
      },
      "source": [
        "Modelo com trânsito da Terra em torno do Sol"
      ]
    },
    {
      "cell_type": "code",
      "metadata": {
        "id": "Uak5TD5KzHM-",
        "colab_type": "code",
        "colab": {
          "base_uri": "https://localhost:8080/",
          "height": 286
        },
        "outputId": "8d68ba70-2dc9-4907-e870-e57262054914"
      },
      "source": [
        "time,earthlc = ktransit.give_me_earth()\n",
        "plt.plot(time,earthlc)"
      ],
      "execution_count": 3,
      "outputs": [
        {
          "output_type": "execute_result",
          "data": {
            "text/plain": [
              "[<matplotlib.lines.Line2D at 0x7f6c35534278>]"
            ]
          },
          "metadata": {
            "tags": []
          },
          "execution_count": 3
        },
        {
          "output_type": "display_data",
          "data": {
            "image/png": "[encoded data removed]",
            "text/plain": [
              "<Figure size 432x288 with 1 Axes>"
            ]
          },
          "metadata": {
            "tags": []
          }
        }
      ]
    },
    {
      "cell_type": "markdown",
      "metadata": {
        "id": "eJKQVYhL2dWU",
        "colab_type": "text"
      },
      "source": [
        "# Modelo com curvas e dados simulados"
      ]
    },
    {
      "cell_type": "code",
      "metadata": {
        "id": "v_UNao2zzXYd",
        "colab_type": "code",
        "colab": {
          "base_uri": "https://localhost:8080/",
          "height": 286
        },
        "outputId": "e638f6a9-4155-4dc2-fc79-2f3853c2a7f4"
      },
      "source": [
        "import ktransit\n",
        "import matplotlib.pyplot as plt\n",
        "import numpy\n",
        "\n",
        "M = ktransit.LCModel()\n",
        "M.add_star(\n",
        "        rho=1.5, # mean stellar density in cgs units\n",
        "        ld1=0.2, # ld1--4 are limb darkening coefficients \n",
        "        ld2=0.4, # if only ld1 and ld2 are non-zero then a quadratic limb darkening law is used\n",
        "        ld3=0.0, # if all four parameters are non-zero we use non-linear flavour limb darkening\n",
        "        ld4=0.0, \n",
        "        dil=0.0, # a dilution factor: 0.0 -> transit not diluted, 0.5 -> transit 50% diluted\n",
        "        zpt=0.0  # a photometric zeropoint, incase the normalisation was wonky\n",
        "        )\n",
        "M.add_planet(\n",
        "        T0=1.0,     # a transit mid-time  \n",
        "        period=1.0, # an orbital period in days\n",
        "        impact=0.1, # an impact parameter\n",
        "        rprs=0.1,   # planet stellar radius ratio  \n",
        "        ecosw=0.0,  # eccentricity vector\n",
        "        esinw=0.0,\n",
        "        occ=0.0)    # a secondary eclipse depth in ppm\n",
        "\n",
        "M.add_planet() # you can add as many planets as you like (up to 10)\n",
        "\n",
        "M.add_data(\n",
        "        time=numpy.arange(0,10,0.0188),                                 # timestamps to evaluate the model on\n",
        "        itime=numpy.zeros_like(numpy.arange(0,10,0.0188))+0.0188 )      # integration time of each timestamp\n",
        "\n",
        "tmod = M.transitmodel # the out of transit data will be 0.0 unless you specify zpt\n",
        "plt.plot(M.time,tmod)"
      ],
      "execution_count": 21,
      "outputs": [
        {
          "output_type": "execute_result",
          "data": {
            "text/plain": [
              "[<matplotlib.lines.Line2D at 0x7f6c34f16c50>]"
            ]
          },
          "metadata": {
            "tags": []
          },
          "execution_count": 21
        },
        {
          "output_type": "display_data",
          "data": {
            "image/png": "[encoded data removed]",
            "text/plain": [
              "<Figure size 432x288 with 1 Axes>"
            ]
          },
          "metadata": {
            "tags": []
          }
        }
      ]
    },
    {
      "cell_type": "markdown",
      "metadata": {
        "id": "UnriwFh43CcK",
        "colab_type": "text"
      },
      "source": [
        "Ajuste de parâmetros de modelos"
      ]
    },
    {
      "cell_type": "code",
      "metadata": {
        "id": "IWmcyd4IzpAc",
        "colab_type": "code",
        "colab": {
          "base_uri": "https://localhost:8080/",
          "height": 168
        },
        "outputId": "363dc451-79e2-4dd9-8e2e-a8f1000c23f6"
      },
      "source": [
        "from ktransit import FitTransit\n",
        "import numpy as np\n",
        "\n",
        "time = np.arange(0,10,0.0188)           # you need a time and a flux\n",
        "flux = np.zeros_like(time)              # there are no transits here :(\n",
        "ferr = np.ones_like(time) * 0.00001     # uncertainty on the data\n",
        "\n",
        "fitT = FitTransit()\n",
        "fitT.add_guess_star(rho=7.0)    \n",
        "fitT.add_guess_planet(\n",
        "        period=365.25, impact=0.0, \n",
        "        T0=0.0, rprs=0.009155)\n",
        "fitT.add_data(time=time, flux=flux, ferr=ferr)\n",
        "\n",
        "vary_star = ['rho'       ]      # free stellar parameters\n",
        "vary_planet = (['period',       # free planetary parameters\n",
        "        'T0', 'impact', \n",
        "        'rprs'])                # free planet parameters are the same for every planet you model\n",
        "\n",
        "fitT.free_parameters(vary_star, vary_planet)\n",
        "fitT.do_fit()                   # run the fitting\n",
        "\n",
        "fitT.print_results()            # print some results"
      ],
      "execution_count": 24,
      "outputs": [
        {
          "output_type": "stream",
          "text": [
            "Best-fitting stellar parameters\n",
            "rho: 31.046938358101716\n",
            "\n",
            "Best-fitting planet parameters for planet 0\n",
            "period: 1629.310646586977\n",
            "T0: -0.0012789502554739363\n",
            "impact: -2.112446925832573\n",
            "rprs: 0.004578886222662277\n",
            "\n"
          ],
          "name": "stdout"
        }
      ]
    },
    {
      "cell_type": "markdown",
      "metadata": {
        "id": "3S2zlOii3aJ5",
        "colab_type": "text"
      },
      "source": [
        "Exibição dos resultados de simulação"
      ]
    },
    {
      "cell_type": "code",
      "metadata": {
        "id": "sR_Nt0vD0i7C",
        "colab_type": "code",
        "colab": {
          "base_uri": "https://localhost:8080/",
          "height": 655
        },
        "outputId": "550c523b-f007-4560-df57-dc7a0c0a1f9d"
      },
      "source": [
        "fig=ktransit.plot_results(time,flux,fitT.transitmodel)\n",
        "fig.savefig(\"transit.png\")"
      ],
      "execution_count": 25,
      "outputs": [
        {
          "output_type": "stream",
          "text": [
            "/usr/local/lib/python3.6/dist-packages/ktransit/fittransit.py:326: UserWarning: Attempting to set identical bottom==top results\n",
            "in singular transformations; automatically expanding.\n",
            "bottom=0.0, top=0.0\n",
            "  np.max(obsf)+0.2*yrng])\n",
            "/usr/local/lib/python3.6/dist-packages/ktransit/fittransit.py:337: UserWarning: Attempting to set identical bottom==top results\n",
            "in singular transformations; automatically expanding.\n",
            "bottom=0.0, top=0.0\n",
            "  np.max(obsf - model)+0.2*yrng2])\n"
          ],
          "name": "stderr"
        },
        {
          "output_type": "display_data",
          "data": {
            "image/png": "[encoded data removed]",
            "text/plain": [
              "<Figure size 720x576 with 2 Axes>"
            ]
          },
          "metadata": {
            "tags": []
          }
        }
      ]
    },
    {
      "cell_type": "markdown",
      "metadata": {
        "id": "4dfDqjrh3P9z",
        "colab_type": "text"
      },
      "source": [
        "Ajustes de dados de alguns exoplantas."
      ]
    },
    {
      "cell_type": "code",
      "metadata": {
        "id": "pTXnY3tl1CPo",
        "colab_type": "code",
        "colab": {
          "base_uri": "https://localhost:8080/",
          "height": 286
        },
        "outputId": "5821468c-6f96-4812-e9a1-9fbdb49e2f7a"
      },
      "source": [
        "import ktransit\n",
        "import matplotlib.pyplot as plt\n",
        "import numpy\n",
        "\n",
        "M = ktransit.LCModel()\n",
        "M.add_star(\n",
        "        rho=1.5,\n",
        "        ld1=0.2,\n",
        "        ld2=0.4, \n",
        "        ld3=0.0,\n",
        "        ld4=0.0, \n",
        "        dil=0.0,\n",
        "        zpt=0.0, \n",
        "        veloffset=10 # new keyword, the radial velocity zero-point offset in m/s   \n",
        "        )\n",
        "M.add_planet(\n",
        "        T0=1.0,     \n",
        "        period=1.0,\n",
        "        impact=0.1,\n",
        "        rprs=0.1,  \n",
        "        ecosw=0.0, \n",
        "        esinw=0.0,\n",
        "        occ=0.0,  \n",
        "        rvamp=100.) # radial velocity semi-amplitude in m/s\n",
        "\n",
        "M.add_data(\n",
        "        time=numpy.arange(0,10,0.0188),   \n",
        "        itime=numpy.zeros_like(numpy.arange(0,10,0.0188))+0.0188 )\n",
        "\n",
        "M.add_rv(rvtime=numpy.arange(0,10,2.),                             # radial velocity observation timestamps\n",
        "        rvitime=numpy.zeros_like(numpy.arange(0,10,2.))+0.02 )    # integration time of each timestamp\n",
        "\n",
        "tmod = M.transitmodel\n",
        "rvmodel = M.rvmodel\n",
        "plt.plot(M.time,tmod)\n",
        "plt.plot(M.rvtime,rvmodel)\n"
      ],
      "execution_count": 26,
      "outputs": [
        {
          "output_type": "execute_result",
          "data": {
            "text/plain": [
              "[<matplotlib.lines.Line2D at 0x7f6c34d22fd0>]"
            ]
          },
          "metadata": {
            "tags": []
          },
          "execution_count": 26
        },
        {
          "output_type": "display_data",
          "data": {
            "image/png": "[encoded data removed]",
            "text/plain": [
              "<Figure size 432x288 with 1 Axes>"
            ]
          },
          "metadata": {
            "tags": []
          }
        }
      ]
    }
  ]
}