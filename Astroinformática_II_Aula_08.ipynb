{
  "nbformat": 4,
  "nbformat_minor": 0,
  "metadata": {
    "colab": {
      "name": "Astroinformática II - Aula 08.ipynb",
      "provenance": [],
      "collapsed_sections": [],
      "include_colab_link": true
    },
    "kernelspec": {
      "name": "python3",
      "display_name": "Python 3"
    }
  },
  "cells": [
    {
      "cell_type": "markdown",
      "metadata": {
        "id": "view-in-github",
        "colab_type": "text"
      },
      "source": [
        "<a href=\"https://colab.research.google.com/github/lucianosilvacraam/astro/blob/master/Astroinform%C3%A1tica_II_Aula_08.ipynb\" target=\"_parent\"><img src=\"https://colab.research.google.com/assets/colab-badge.svg\" alt=\"Open In Colab\"/></a>"
      ]
    },
    {
      "cell_type": "markdown",
      "metadata": {
        "id": "5GFZBEZOPTtn",
        "colab_type": "text"
      },
      "source": [
        "**ASTROINFORMÁTICA II - AULA 08**"
      ]
    },
    {
      "cell_type": "markdown",
      "metadata": {
        "id": "9AEoNjm1CMq0",
        "colab_type": "text"
      },
      "source": [
        "Equações de campo: https://en.wikipedia.org/wiki/Mathematics_of_general_relativity\n",
        "\n",
        "Solução de Schwarzchild (sem rotação e sem carga): \n",
        "\n",
        "https://nbviewer.jupyter.org/github/sagemanifolds/SageManifolds/blob/master/Worksheets/v1.3/SM_Schwarzschild.ipynb\n",
        "\n",
        "https://nbviewer.jupyter.org/github/sagemanifolds/SageManifolds/blob/master/Worksheets/v1.3/SM_Schwarzschild_geod.ipynb"
      ]
    },
    {
      "cell_type": "code",
      "metadata": {
        "id": "O01XpZ2APY0h",
        "colab_type": "code",
        "outputId": "5cf71009-7696-4794-fbd1-83abd487754a",
        "colab": {
          "base_uri": "https://localhost:8080/",
          "height": 269
        }
      },
      "source": [
        "import numpy as np\n",
        "import matplotlib.pyplot as pl\n",
        "import scipy.integrate as spi\n",
        "%matplotlib inline\n",
        "\n",
        "c = 1.0  # Canonical coordinates\n",
        "rs = 1.0 # Star ratio\n",
        "\n",
        "def metric(y,s):\n",
        "    #Spacetime metric\n",
        "    return np.array([\n",
        "    y[4], y[5], y[6], y[7],\n",
        "    rs*0.5/y[0]/(y[0]-rs)*y[4]**2 + (y[0]-rs)*y[5]**2 + (y[0]-rs)*np.sin(y[1])**2*y[6]**2 + c*c*rs*(rs-y[0])*0.5/y[0]**3*y[7]**2,\n",
        "    -2.0/y[0]*y[4]*y[5] + np.sin(y[1])*np.cos(y[1])*y[6]**2,\n",
        "    -2.0/y[0]*y[4]*y[6] - 2.0/np.tan(y[1])*y[5]*y[6],\n",
        "    rs/y[0]/(rs-y[0])*y[4]*y[7]\n",
        "    ])\n",
        "\n",
        "    # Integrate\n",
        "    y = spi.odeint(metric, y0, s )\n",
        "\n",
        "fig = pl.figure(1)\n",
        "\n",
        "for y0 in np.linspace(0.3,0.21,15):\n",
        "    \n",
        "      # Initial conditions\n",
        "    x0r = np.array([ 3.0, -2.0, 0.0])\n",
        "    x0rd= np.array([ y0, 0.25, 0.0])\n",
        "\n",
        "      # Convert the initial position to spherical coordinates\n",
        "    x0 = np.zeros(3)\n",
        "    x0[0] = np.sqrt(x0r[0]**2+x0r[1]**2+x0r[2]**2)\n",
        "    x0[1] = np.arccos(x0r[2]/x0[0])\n",
        "    x0[2] = np.arctan2(x0r[1],x0r[0])\n",
        "\n",
        "      # Convert the initial velocity to spherical coordinates\n",
        "    x0d = np.array([\n",
        "     np.cos(x0[2])*np.sin(x0[1])      *x0rd[0] + np.sin(x0[2])*np.sin(x0[1])      *x0rd[1] + np.cos(x0[1])      *x0rd[2],\n",
        "     np.cos(x0[2])*np.cos(x0[1])/x0[0]*x0rd[0] + np.sin(x0[2])*np.cos(x0[1])/x0[0]*x0rd[1] - np.sin(x0[1])/x0[0]*x0rd[2],\n",
        "    -np.sin(x0[2])/np.sin(x0[1])/x0[0]*x0rd[0] + np.cos(x0[2])/np.sin(x0[1])/x0[0]*x0rd[1]\n",
        "    ])\n",
        "\n",
        "      # Pack the initial conditions into an array\n",
        "    y0 = np.array([  x0[0],  x0[1],  x0[2], 0.0, x0d[0], x0d[1], x0d[2], 1.0 ])\n",
        "\n",
        "      # Parameterized time intervals\n",
        "    s = np.linspace(0,30,10000)\n",
        "\n",
        "      # Integrate\n",
        "    y = spi.odeint(metric, y0, s )\n",
        "\n",
        "      # Unpack the results\n",
        "    r = y[:,0]\n",
        "    theta = y[:,1]\n",
        "    phi = y[:,2]\n",
        "    t = y[:,3]\n",
        "\n",
        "      # Plot in the equatorial plane\n",
        "    pl.plot(r*np.cos(phi),r*np.sin(phi),color=\"#aaaaaa\",linewidth=0.3)\n",
        "\n",
        "\n",
        "ax = pl.gca()\n",
        "ax.add_patch( pl.Circle((0,0), radius=rs, fc=[0,0,0]))\n",
        "pl.axis([-5,5,-5,5])\n",
        "ax.set_aspect(1)\n",
        "pl.show()"
      ],
      "execution_count": 0,
      "outputs": [
        {
          "output_type": "display_data",
          "data": {
            "image/png": "[encoded data removed]",
            "text/plain": [
              "<Figure size 432x288 with 1 Axes>"
            ]
          },
          "metadata": {
            "tags": []
          }
        }
      ]
    }
  ]
}