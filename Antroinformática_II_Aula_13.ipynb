{
  "nbformat": 4,
  "nbformat_minor": 0,
  "metadata": {
    "colab": {
      "name": "Antroinformática II - Aula 13.ipynb",
      "provenance": [],
      "collapsed_sections": [],
      "include_colab_link": true
    },
    "kernelspec": {
      "name": "python3",
      "display_name": "Python 3"
    }
  },
  "cells": [
    {
      "cell_type": "markdown",
      "metadata": {
        "id": "view-in-github",
        "colab_type": "text"
      },
      "source": [
        "<a href=\"https://colab.research.google.com/github/lucianosilvacraam/astro/blob/master/Antroinform%C3%A1tica_II_Aula_13.ipynb\" target=\"_parent\"><img src=\"https://colab.research.google.com/assets/colab-badge.svg\" alt=\"Open In Colab\"/></a>"
      ]
    },
    {
      "cell_type": "markdown",
      "metadata": {
        "id": "f4oRXLl9ASDN",
        "colab_type": "text"
      },
      "source": [
        "APRENDIZADO SUPERVISIONADO"
      ]
    },
    {
      "cell_type": "markdown",
      "metadata": {
        "id": "TIJtlrIvDKFy",
        "colab_type": "text"
      },
      "source": [
        "**TEORIA**"
      ]
    },
    {
      "cell_type": "code",
      "metadata": {
        "id": "L2eFMk80bbgc",
        "colab_type": "code",
        "colab": {
          "base_uri": "https://localhost:8080/",
          "height": 85
        },
        "outputId": "584daaf5-e3b5-4a2a-e1b8-0c13659e440e"
      },
      "source": [
        "import numpy as np\n",
        "X = np.array([[1, 1], [0, 0]])\n",
        "y = np.array([1,0])\n",
        "from sklearn.svm import SVC\n",
        "clf = SVC(gamma='auto')\n",
        "clf.fit(X, y)"
      ],
      "execution_count": 1,
      "outputs": [
        {
          "output_type": "execute_result",
          "data": {
            "text/plain": [
              "SVC(C=1.0, cache_size=200, class_weight=None, coef0=0.0,\n",
              "    decision_function_shape='ovr', degree=3, gamma='auto', kernel='rbf',\n",
              "    max_iter=-1, probability=False, random_state=None, shrinking=True,\n",
              "    tol=0.001, verbose=False)"
            ]
          },
          "metadata": {
            "tags": []
          },
          "execution_count": 1
        }
      ]
    },
    {
      "cell_type": "code",
      "metadata": {
        "id": "VfqjJzq2Al8i",
        "colab_type": "code",
        "outputId": "1246df50-f7e2-47fc-d40e-9b63f5fb02ab",
        "colab": {
          "base_uri": "https://localhost:8080/",
          "height": 34
        }
      },
      "source": [
        "clf.predict([[0,0]])\n"
      ],
      "execution_count": 0,
      "outputs": [
        {
          "output_type": "execute_result",
          "data": {
            "text/plain": [
              "array([0])"
            ]
          },
          "metadata": {
            "tags": []
          },
          "execution_count": 7
        }
      ]
    },
    {
      "cell_type": "code",
      "metadata": {
        "id": "bOV9bJhECeuV",
        "colab_type": "code",
        "outputId": "3a46037d-97df-49e1-d437-c131fe3b26db",
        "colab": {
          "base_uri": "https://localhost:8080/",
          "height": 34
        }
      },
      "source": [
        "clf.predict([[1,1]])\n"
      ],
      "execution_count": 0,
      "outputs": [
        {
          "output_type": "execute_result",
          "data": {
            "text/plain": [
              "array([1])"
            ]
          },
          "metadata": {
            "tags": []
          },
          "execution_count": 8
        }
      ]
    },
    {
      "cell_type": "code",
      "metadata": {
        "id": "t5MF-u-5CiVD",
        "colab_type": "code",
        "outputId": "5d46aa10-63cb-4070-e21e-ca51f58de40b",
        "colab": {
          "base_uri": "https://localhost:8080/",
          "height": 34
        }
      },
      "source": [
        "clf.predict([[4,4]])"
      ],
      "execution_count": 0,
      "outputs": [
        {
          "output_type": "execute_result",
          "data": {
            "text/plain": [
              "array([1])"
            ]
          },
          "metadata": {
            "tags": []
          },
          "execution_count": 10
        }
      ]
    },
    {
      "cell_type": "markdown",
      "metadata": {
        "id": "TccQcaIDDPcx",
        "colab_type": "text"
      },
      "source": [
        "**PRÁTICA**"
      ]
    },
    {
      "cell_type": "code",
      "metadata": {
        "id": "9fpP7i27FPy0",
        "colab_type": "code",
        "outputId": "40b41fe5-f549-4539-dcfc-6ecf95182a54",
        "colab": {
          "base_uri": "https://localhost:8080/",
          "height": 386
        }
      },
      "source": [
        "!pip install astroml"
      ],
      "execution_count": 0,
      "outputs": [
        {
          "output_type": "stream",
          "text": [
            "Collecting astroml\n",
            "\u001b[?25l  Downloading https://files.pythonhosted.org/packages/e6/16/bb2d2784c09bfa9ed1ac5c3caf32cc203a1f8614fd5361f99ee46b4e04dc/astroML-0.4.1.tar.gz (105kB)\n",
            "\u001b[K     |████████████████████████████████| 112kB 2.7MB/s \n",
            "\u001b[?25hRequirement already satisfied: scikit-learn>=0.18 in /usr/local/lib/python3.6/dist-packages (from astroml) (0.21.3)\n",
            "Requirement already satisfied: numpy>=1.4 in /usr/local/lib/python3.6/dist-packages (from astroml) (1.16.5)\n",
            "Requirement already satisfied: scipy>=0.11 in /usr/local/lib/python3.6/dist-packages (from astroml) (1.3.1)\n",
            "Requirement already satisfied: matplotlib>=0.99 in /usr/local/lib/python3.6/dist-packages (from astroml) (3.0.3)\n",
            "Requirement already satisfied: astropy>=1.2 in /usr/local/lib/python3.6/dist-packages (from astroml) (3.0.5)\n",
            "Requirement already satisfied: joblib>=0.11 in /usr/local/lib/python3.6/dist-packages (from scikit-learn>=0.18->astroml) (0.14.0)\n",
            "Requirement already satisfied: cycler>=0.10 in /usr/local/lib/python3.6/dist-packages (from matplotlib>=0.99->astroml) (0.10.0)\n",
            "Requirement already satisfied: kiwisolver>=1.0.1 in /usr/local/lib/python3.6/dist-packages (from matplotlib>=0.99->astroml) (1.1.0)\n",
            "Requirement already satisfied: python-dateutil>=2.1 in /usr/local/lib/python3.6/dist-packages (from matplotlib>=0.99->astroml) (2.5.3)\n",
            "Requirement already satisfied: pyparsing!=2.0.4,!=2.1.2,!=2.1.6,>=2.0.1 in /usr/local/lib/python3.6/dist-packages (from matplotlib>=0.99->astroml) (2.4.2)\n",
            "Requirement already satisfied: six in /usr/local/lib/python3.6/dist-packages (from cycler>=0.10->matplotlib>=0.99->astroml) (1.12.0)\n",
            "Requirement already satisfied: setuptools in /usr/local/lib/python3.6/dist-packages (from kiwisolver>=1.0.1->matplotlib>=0.99->astroml) (41.2.0)\n",
            "Building wheels for collected packages: astroml\n",
            "  Building wheel for astroml (setup.py) ... \u001b[?25l\u001b[?25hdone\n",
            "  Created wheel for astroml: filename=astroML-0.4.1-cp36-none-any.whl size=128663 sha256=37c4265e48170b5b6634067e5de0dd2c9aefab5b2028467b55af9c07f9f6e632\n",
            "  Stored in directory: /root/.cache/pip/wheels/7c/f2/f3/eb817cfb31b4445358dd7dda2434e02003f72801edabc38c97\n",
            "Successfully built astroml\n",
            "Installing collected packages: astroml\n",
            "Successfully installed astroml-0.4.1\n"
          ],
          "name": "stdout"
        }
      ]
    },
    {
      "cell_type": "code",
      "metadata": {
        "id": "O_aEgpEhFV0i",
        "colab_type": "code",
        "outputId": "e6ef3334-4daa-46df-aeed-d4f0e9336d5f",
        "colab": {
          "base_uri": "https://localhost:8080/",
          "height": 503
        }
      },
      "source": [
        "from matplotlib import pyplot as plt\n",
        "\n",
        "from astroML.datasets import fetch_sdss_galaxy_colors\n",
        "\n",
        "#------------------------------------------------------------\n",
        "# Download data\n",
        "data = fetch_sdss_galaxy_colors()\n",
        "data = data[::10]  # truncate for plotting\n",
        "\n",
        "# Extract colors and spectral class\n",
        "ug = data['u'] - data['g']\n",
        "gr = data['g'] - data['r']\n",
        "spec_class = data['specClass']\n",
        "\n",
        "galaxies = (spec_class == 'GALAXY')\n",
        "qsos = (spec_class == 'QSO')\n",
        "\n",
        "#------------------------------------------------------------\n",
        "# Prepare plot\n",
        "fig = plt.figure()\n",
        "ax = fig.add_subplot(111)\n",
        "\n",
        "ax.set_xlim(-0.5, 2.5)\n",
        "ax.set_ylim(-0.5, 1.5)\n",
        "\n",
        "ax.plot(ug[galaxies], gr[galaxies], '.', ms=4, c='b', label='galaxies')\n",
        "ax.plot(ug[qsos], gr[qsos], '.', ms=4, c='r', label='qsos')\n",
        "\n",
        "ax.legend(loc=2)\n",
        "\n",
        "ax.set_xlabel('$u-g$')\n",
        "ax.set_ylabel('$g-r$')\n",
        "\n",
        "plt.show()"
      ],
      "execution_count": 0,
      "outputs": [
        {
          "output_type": "stream",
          "text": [
            "querying for 50000 objects\n",
            "SELECT TOP 50000\n",
            "  p.u, p.g, p.r, p.i, p.z, s.class, s.z, s.zerr\n",
            "FROM PhotoObj AS p\n",
            "  JOIN SpecObj AS s ON s.bestobjid = p.objid\n",
            "WHERE \n",
            "  p.u BETWEEN 0 AND 19.6\n",
            "  AND p.g BETWEEN 0 AND 20\n",
            "  AND s.class <> 'UNKNOWN'\n",
            "  AND s.class <> 'STAR'\n",
            "  AND s.class <> 'SKY'\n",
            "  AND s.class <> 'STAR_LATE'\n",
            "finished.\n"
          ],
          "name": "stdout"
        },
        {
          "output_type": "display_data",
          "data": {
            "image/png": "[encoded data removed]",
            "text/plain": [
              "<Figure size 432x288 with 1 Axes>"
            ]
          },
          "metadata": {
            "tags": []
          }
        }
      ]
    }
  ]
}