{
  "nbformat": 4,
  "nbformat_minor": 0,
  "metadata": {
    "colab": {
      "name": "Astroinformática II - Aula 05.ipynb",
      "version": "0.3.2",
      "provenance": [],
      "collapsed_sections": [],
      "include_colab_link": true
    },
    "kernelspec": {
      "name": "python3",
      "display_name": "Python 3"
    }
  },
  "cells": [
    {
      "cell_type": "markdown",
      "metadata": {
        "id": "view-in-github",
        "colab_type": "text"
      },
      "source": [
        "<a href=\"https://colab.research.google.com/github/lucianosilvacraam/astro/blob/master/Astroinform%C3%A1tica_II_Aula_05.ipynb\" target=\"_parent\"><img src=\"https://colab.research.google.com/assets/colab-badge.svg\" alt=\"Open In Colab\"/></a>"
      ]
    },
    {
      "cell_type": "markdown",
      "metadata": {
        "id": "obMms7_DSKx_",
        "colab_type": "text"
      },
      "source": [
        "**TÓPICOS DA AULA:** MANIPULAÇÃO SIMBÓLICA E NUMÉRICA EM PYTHON"
      ]
    },
    {
      "cell_type": "markdown",
      "metadata": {
        "id": "jla-BCVJSvj2",
        "colab_type": "text"
      },
      "source": [
        "RESOLUÇÃO ANALÍTICA"
      ]
    },
    {
      "cell_type": "code",
      "metadata": {
        "id": "nMc75joPSFZ1",
        "colab_type": "code",
        "colab": {}
      },
      "source": [
        "from sympy import *\n",
        "\n",
        "x, y, z = symbols('x y z')\n",
        "print(simplify(sin(x)**2 + cos(x)**2))"
      ],
      "execution_count": 0,
      "outputs": []
    },
    {
      "cell_type": "markdown",
      "metadata": {
        "id": "YsV0NoCCBNyc",
        "colab_type": "text"
      },
      "source": [
        ""
      ]
    },
    {
      "cell_type": "code",
      "metadata": {
        "id": "mKh0ImxnTPcc",
        "colab_type": "code",
        "colab": {}
      },
      "source": [
        "print(simplify(sin(x)**2 + cos(x)**2))\n",
        "print(simplify((x**3 + x**2 - x - 1)/(x**2 + 2*x + 1)))\n",
        "print(simplify(gamma(x)/gamma(x - 2)))"
      ],
      "execution_count": 0,
      "outputs": []
    },
    {
      "cell_type": "code",
      "metadata": {
        "id": "UTRbbar2cVJ2",
        "colab_type": "code",
        "colab": {}
      },
      "source": [
        "print(expand((x + 2)*(x - 3)))"
      ],
      "execution_count": 0,
      "outputs": []
    },
    {
      "cell_type": "code",
      "metadata": {
        "id": "ddE-6uIeUO2q",
        "colab_type": "code",
        "colab": {}
      },
      "source": [
        "expr=expand((x + 2)*(x - 3))\n",
        "print(expr.subs([(x,0)]))"
      ],
      "execution_count": 0,
      "outputs": []
    },
    {
      "cell_type": "markdown",
      "metadata": {
        "id": "eSe42vJwUulH",
        "colab_type": "text"
      },
      "source": [
        "**Limites**"
      ]
    },
    {
      "cell_type": "code",
      "metadata": {
        "id": "dZoVP6t9Vz31",
        "colab_type": "code",
        "colab": {}
      },
      "source": [
        "expr = limit((cos(x) - 1)/x, x, 0)\n",
        "print(expr)\n",
        "expr = limit((sin (x)/x),x,0)\n",
        "print(expr)\n"
      ],
      "execution_count": 0,
      "outputs": []
    },
    {
      "cell_type": "markdown",
      "metadata": {
        "id": "Ovx6cLoIV26a",
        "colab_type": "text"
      },
      "source": [
        "**Derivadas**"
      ]
    },
    {
      "cell_type": "code",
      "metadata": {
        "id": "_BXYpCFPvChp",
        "colab_type": "code",
        "colab": {}
      },
      "source": [
        "diff(cos(x), x)"
      ],
      "execution_count": 0,
      "outputs": []
    },
    {
      "cell_type": "markdown",
      "metadata": {
        "id": "oMBAHSuXgjux",
        "colab_type": "text"
      },
      "source": [
        "**Integrais**"
      ]
    },
    {
      "cell_type": "code",
      "metadata": {
        "id": "RFmK95dDgmku",
        "colab_type": "code",
        "colab": {}
      },
      "source": [
        "expr=integrate(-cos(x), x)\n",
        "print(expr)\n",
        "expr=integrate(exp(-x**2 - y**2), (x, -oo, oo), (y, -oo, oo))\n",
        "print(expr)"
      ],
      "execution_count": 0,
      "outputs": []
    },
    {
      "cell_type": "markdown",
      "metadata": {
        "id": "iYt8HUuBhz6r",
        "colab_type": "text"
      },
      "source": [
        "**Equações diferenciais**"
      ]
    },
    {
      "cell_type": "code",
      "metadata": {
        "id": "XSqxhivrh6EL",
        "colab_type": "code",
        "colab": {}
      },
      "source": [
        "f, g = symbols('f g', cls=Function)\n",
        "f(x).diff(x)\n",
        "diffeq = Eq(f(x).diff(x, x) - 2*f(x).diff(x) + f(x), sin(x))\n",
        "dsolve(diffeq, f(x))\n"
      ],
      "execution_count": 0,
      "outputs": []
    },
    {
      "cell_type": "markdown",
      "metadata": {
        "id": "Nru0bXatku5_",
        "colab_type": "text"
      },
      "source": [
        "***RESOLUÇÃO NUMÉRICA***"
      ]
    },
    {
      "cell_type": "markdown",
      "metadata": {
        "id": "b3I19xuhltiR",
        "colab_type": "text"
      },
      "source": [
        "Rotina numérica para resolução numérica de EDO"
      ]
    },
    {
      "cell_type": "code",
      "metadata": {
        "id": "5e0qoWaok1sL",
        "colab_type": "code",
        "colab": {}
      },
      "source": [
        "import numpy as np\n",
        "import matplotlib.pyplot as plt\n",
        "from scipy.integrate import odeint\n",
        "\n",
        "def f(y, t, params):\n",
        "    theta, omega = y      # unpack current values of y\n",
        "    Q, d, Omega = params  # unpack parameters\n",
        "    derivs = [omega,      # list of dy/dt=f functions\n",
        "             -omega/Q + np.sin(theta) + d*np.cos(Omega*t)]\n",
        "    return derivs\n",
        "\n",
        "# Parameters\n",
        "Q = 2.0          # quality factor (inverse damping)\n",
        "d = 1.5          # forcing amplitude\n",
        "Omega = 0.65     # drive frequency\n",
        "\n",
        "# Initial values\n",
        "theta0 = 0.0     # initial angular displacement\n",
        "omega0 = 0.0     # initial angular velocity\n",
        "\n",
        "# Bundle parameters for ODE solver\n",
        "params = [Q, d, Omega]\n",
        "\n",
        "# Bundle initial conditions for ODE solver\n",
        "y0 = [theta0, omega0]\n",
        "\n",
        "# Make time array for solution\n",
        "tStop = 200.\n",
        "tInc = 0.05\n",
        "t = np.arange(0., tStop, tInc)\n",
        "\n",
        "# Call the ODE solver\n",
        "psoln = odeint(f, y0, t, args=(params,))\n",
        "\n",
        "# Plot results\n",
        "fig = plt.figure(1, figsize=(8,8))\n",
        "\n",
        "# Plot theta as a function of time\n",
        "ax1 = fig.add_subplot(311)\n",
        "ax1.plot(t, psoln[:,0])\n",
        "ax1.set_xlabel('time')\n",
        "ax1.set_ylabel('theta')\n",
        "\n",
        "# Plot omega as a function of time\n",
        "ax2 = fig.add_subplot(312)\n",
        "ax2.plot(t, psoln[:,1])\n",
        "ax2.set_xlabel('time')\n",
        "ax2.set_ylabel('omega')\n",
        "\n",
        "# Plot omega vs theta\n",
        "ax3 = fig.add_subplot(313)\n",
        "twopi = 2.0*np.pi\n",
        "ax3.plot(psoln[:,0]%twopi, psoln[:,1], '.', ms=1)\n",
        "ax3.set_xlabel('theta')\n",
        "ax3.set_ylabel('omega')\n",
        "ax3.set_xlim(0., twopi)\n",
        "\n",
        "plt.tight_layout()\n",
        "plt.show()\n"
      ],
      "execution_count": 0,
      "outputs": []
    }
  ]
}