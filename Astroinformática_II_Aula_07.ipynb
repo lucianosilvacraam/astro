{
  "nbformat": 4,
  "nbformat_minor": 0,
  "metadata": {
    "colab": {
      "name": "Astroinformática II - Aula 07.ipynb",
      "provenance": [],
      "collapsed_sections": [],
      "include_colab_link": true
    },
    "kernelspec": {
      "name": "python3",
      "display_name": "Python 3"
    }
  },
  "cells": [
    {
      "cell_type": "markdown",
      "metadata": {
        "id": "view-in-github",
        "colab_type": "text"
      },
      "source": [
        "<a href=\"https://colab.research.google.com/github/lucianosilvacraam/astro/blob/master/Astroinform%C3%A1tica_II_Aula_07.ipynb\" target=\"_parent\"><img src=\"https://colab.research.google.com/assets/colab-badge.svg\" alt=\"Open In Colab\"/></a>"
      ]
    },
    {
      "cell_type": "markdown",
      "metadata": {
        "id": "nTVCox5AAwXD",
        "colab_type": "text"
      },
      "source": [
        "**AULA 07:** Geração de Números Aletórios para Modelos Determínisticos e Pacote PyLab"
      ]
    },
    {
      "cell_type": "markdown",
      "metadata": {
        "id": "rFUBmgMnY-rt",
        "colab_type": "text"
      },
      "source": [
        "Pacote PyLab: https://jakevdp.github.io/mpl_tutorial/tutorial_pages/tut1.html"
      ]
    },
    {
      "cell_type": "markdown",
      "metadata": {
        "id": "pJRjJBHrZ0D1",
        "colab_type": "text"
      },
      "source": [
        "Galaxy Zoo: http://zoo1.galaxyzoo.org/\n"
      ]
    },
    {
      "cell_type": "markdown",
      "metadata": {
        "id": "9kt8cyNpaO7g",
        "colab_type": "text"
      },
      "source": [
        "Modelo Gráfico para uma Galáxia Espiral"
      ]
    },
    {
      "cell_type": "code",
      "metadata": {
        "id": "y9GX3biPAT3o",
        "colab_type": "code",
        "outputId": "f2ff5a53-d8ca-4ddd-82b1-64561fe1b080",
        "colab": {
          "base_uri": "https://localhost:8080/",
          "height": 269
        }
      },
      "source": [
        "import random\n",
        "from math import *\n",
        "from pylab import *\n",
        "import numpy as np\n",
        "\n",
        "n=1000\n",
        "a=0.5\n",
        "b=0.6\n",
        "th=np.random.randn(n)\n",
        "phi=np.random.randn(n)\n",
        "\n",
        "x=a*exp(b*th)*cos(th)\n",
        "y=a*exp(b*th)*sin(th)\n",
        "x1=a*exp(b*(th))*cos(th+pi)\n",
        "y1=a*exp(b*(th))*sin(th+pi)\n",
        "\n",
        "sx=np.random.normal(0, a*0.25, n)\n",
        "sy=np.random.normal(0, a*0.25, n)\n",
        "plot(x+sy,y+sx,\"*\")\n",
        "plot(x1+sx, y1+sy,\"*\")\n",
        "\n",
        "show()"
      ],
      "execution_count": 0,
      "outputs": [
        {
          "output_type": "display_data",
          "data": {
            "image/png": "[encoded data removed]",
            "text/plain": [
              "<Figure size 432x288 with 1 Axes>"
            ]
          },
          "metadata": {
            "tags": []
          }
        }
      ]
    },
    {
      "cell_type": "markdown",
      "metadata": {
        "id": "NltUCDWtaVqe",
        "colab_type": "text"
      },
      "source": [
        "Exercício: Criar um modelo gráfico para uma galáxia elíptica"
      ]
    },
    {
      "cell_type": "code",
      "metadata": {
        "id": "1kEsTogDafjO",
        "colab_type": "code",
        "colab": {}
      },
      "source": [
        ""
      ],
      "execution_count": 0,
      "outputs": []
    }
  ]
}