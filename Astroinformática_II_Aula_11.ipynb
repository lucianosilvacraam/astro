{
  "nbformat": 4,
  "nbformat_minor": 0,
  "metadata": {
    "colab": {
      "name": "Astroinformática II - Aula 11.ipynb",
      "provenance": [],
      "collapsed_sections": [],
      "include_colab_link": true
    },
    "kernelspec": {
      "name": "python3",
      "display_name": "Python 3"
    }
  },
  "cells": [
    {
      "cell_type": "markdown",
      "metadata": {
        "id": "view-in-github",
        "colab_type": "text"
      },
      "source": [
        "<a href=\"https://colab.research.google.com/github/lucianosilvacraam/astro/blob/master/Astroinform%C3%A1tica_II_Aula_11.ipynb\" target=\"_parent\"><img src=\"https://colab.research.google.com/assets/colab-badge.svg\" alt=\"Open In Colab\"/></a>"
      ]
    },
    {
      "cell_type": "markdown",
      "metadata": {
        "id": "nsUjz6LHSDVz",
        "colab_type": "text"
      },
      "source": [
        "Equações de MHD: https://pt.wikipedia.org/wiki/Magnetoidrodin%C3%A2mica\n",
        "\n",
        "\n",
        "Equação de Poisson: https://pt.wikipedia.org/wiki/Equa%C3%A7%C3%A3o_de_Poisson\n",
        "\n"
      ]
    },
    {
      "cell_type": "code",
      "metadata": {
        "id": "YUUR4UAaSswj",
        "colab_type": "code",
        "colab": {}
      },
      "source": [
        "def poisson(f,V0,X,Y,maxiter,maxres,beta0):\n",
        "  [M,N]=f.shape; #determina a dimensão das matrizes\n",
        "  iter=0\n",
        "  V=np.ones((M,N))*V0 #inicializa a matriz do potencial\n",
        "  resid=2*maxres #garante a primeira iteração\n",
        "  if (beta0<1) or (beta0>2):\n",
        "    beta=2-np.pi*np.sqrt(2.)*np.sqrt(1./M**2+1./N**2) \n",
        "  else:\n",
        "    beta=beta0 \n",
        "\n",
        "  if f.shape!=X.shape or X.shape!=Y.shape: # verifica consistencia\n",
        "    print('Error in matrix size')\n",
        "    return V,iter,resid,beta\n",
        "  dx=X[2,1]-X[1,1];dy=Y[1,2]-Y[1,1] #Admite-se espaçamento regular\n",
        "  if(dx!=dy):\n",
        "    print('Error in dx,dy')\n",
        "    return V,iter,resid,beta\n",
        "  delta=dx\n",
        "  while(resid>maxres) and (iter<maxiter): #iterações\n",
        "    iter=iter+1\n",
        "    resid=0\n",
        "    vmax=0\n",
        "    for i in range(1,M-1): #=2:M-1\n",
        "      for j in range(1,N-1): #2:N-1\n",
        "        R=V[i,j-1]+V[i,j+1]+V[i-1,j]+V[i+1,j]-4*V[i,j]-delta**2*f[i,j]\n",
        "        V[i,j]=V[i,j]+beta*R/4;\n",
        "        resid=max(resid,abs(R));\n",
        "    vmax=np.max(np.abs(V))\n",
        "    resid=resid/vmax #residuo relativo\n",
        "    return V,iter,resid,beta\n"
      ],
      "execution_count": 0,
      "outputs": []
    },
    {
      "cell_type": "code",
      "metadata": {
        "id": "m5HWOCY3RhRq",
        "colab_type": "code",
        "colab": {
          "base_uri": "https://localhost:8080/",
          "height": 340
        },
        "outputId": "86ad706a-fce9-42e5-eef1-c0294b9bb2c8"
      },
      "source": [
        "import numpy as np\n",
        "import matplotlib.pyplot as plt\n",
        "plt.close('all') #fecha figuras anteriores\n",
        "plt.figure(figsize=(6,5))\n",
        "Lx=1.\n",
        "Ly=1.\n",
        "M=51\n",
        "N=51\n",
        "delta=Lx/(M-1)\n",
        "X=np.zeros((M,N));Y=np.zeros((M,N));ro=np.zeros((M,N))\n",
        "for i in range(M):\n",
        "  for j in range(N):\n",
        "    X[i,j]=i*delta\n",
        "    Y[i,j]=j*delta\n",
        "ncargas=4 # define as cargas pontuais e sua localização\n",
        "xis=[0.4,0.6,0.3,0.5];yps=[0.5,0.5,0.2,0.8];q=[1e-9,-1e-9,-1.5e-9,-2e-9];\n",
        "#calcula a matriz densidade de carga\n",
        "for carga in range(ncargas):\n",
        "  i=round(xis[carga]/delta)+1 #; %i,j devem ser inteiros\n",
        "  j=round(yps[carga]/delta)+1\n",
        "  ro[i,j]=q[carga]/delta**2\n",
        "#define a função forçadora na equação de Poisson (segundo membro)\n",
        "eps0=8.8544e-12\n",
        "f=-ro/eps0\n",
        "maxiter=5000 # número máximo de iterações\n",
        "maxres=1.e-8 # erro relativo\n",
        "V=0*np.ones((M,N)) # %potencial na fronteira\n",
        "V0=0\n",
        "beta0=0 # %beta é calculado em poisson\n",
        "[V,niter,res,beta]=poisson(f,V0,X,Y,maxiter,maxres,beta0)\n",
        "map=plt.contourf(X,Y,V,cmap='jet') # %gráfico de isolinhas\n",
        "axes = plt.gca()\n",
        "axes.set_xlim([0.,Lx])\n",
        "axes.set_ylim([0.,Ly])\n",
        "plt.colorbar(map)\n",
        "plt.axis('equal')\n",
        "plt.title(r'$\\nabla^{2} V=\\rho/\\epsilon, iter=%6i, Resid=%10.3e,beta=%8.4f $' % (niter,res,beta))\n",
        "plt.show()\n",
        "\n"
      ],
      "execution_count": 31,
      "outputs": [
        {
          "output_type": "display_data",
          "data": {
            "image/png": "[encoded data removed]",
            "text/plain": [
              "<Figure size 432x360 with 2 Axes>"
            ]
          },
          "metadata": {
            "tags": []
          }
        }
      ]
    }
  ]
}