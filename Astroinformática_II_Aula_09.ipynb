{
  "nbformat": 4,
  "nbformat_minor": 0,
  "metadata": {
    "colab": {
      "name": "Astroinformática II - Aula 09.ipynb",
      "provenance": [],
      "collapsed_sections": [],
      "include_colab_link": true
    },
    "kernelspec": {
      "name": "python3",
      "display_name": "Python 3"
    }
  },
  "cells": [
    {
      "cell_type": "markdown",
      "metadata": {
        "id": "view-in-github",
        "colab_type": "text"
      },
      "source": [
        "<a href=\"https://colab.research.google.com/github/lucianosilvacraam/astro/blob/master/Astroinform%C3%A1tica_II_Aula_09.ipynb\" target=\"_parent\"><img src=\"https://colab.research.google.com/assets/colab-badge.svg\" alt=\"Open In Colab\"/></a>"
      ]
    },
    {
      "cell_type": "markdown",
      "metadata": {
        "id": "S7woIvI1Likb",
        "colab_type": "text"
      },
      "source": [
        "ASTROINFORMÁTICA II - Aula 09: Módulo simupy\n",
        "\n",
        "http://github.com/simupy\n"
      ]
    },
    {
      "cell_type": "code",
      "metadata": {
        "id": "YcwjWu9zMCQ4",
        "colab_type": "code",
        "colab": {}
      },
      "source": [
        "!pip install simupy"
      ],
      "execution_count": 0,
      "outputs": []
    },
    {
      "cell_type": "code",
      "metadata": {
        "id": "4Q1l4zj5Ncsj",
        "colab_type": "code",
        "colab": {}
      },
      "source": [
        "from sympy.physics.mechanics import dynamicsymbols\n",
        "from sympy.tensor.array import Array\n",
        "from simupy.systems.symbolic import DynamicalSystem\n",
        "\n",
        "x = x1, x2, x3 = Array(dynamicsymbols('x1:4'))\n",
        "u = dynamicsymbols('u')\n",
        "sys = DynamicalSystem(Array([-x1+x2-x3, -x1*x2-x2+u, -x1+u]), x, u)"
      ],
      "execution_count": 0,
      "outputs": []
    },
    {
      "cell_type": "code",
      "metadata": {
        "id": "fL8l5acMNh4h",
        "colab_type": "code",
        "colab": {}
      },
      "source": [
        "from simupy.systems import LTISystem\n",
        "ctrl = LTISystem([[1.73992128, 0.99212953,  -2.98819041]])"
      ],
      "execution_count": 0,
      "outputs": []
    },
    {
      "cell_type": "code",
      "metadata": {
        "id": "QTxpBq01NyXI",
        "colab_type": "code",
        "colab": {}
      },
      "source": [
        "from simupy.block_diagram import BlockDiagram\n",
        "BD = BlockDiagram(sys, ctrl)\n",
        "BD.connect(sys, ctrl) # connect the current state to the feedback controller\n",
        "BD.connect(ctrl, sys) # connect the controlled input to the system"
      ],
      "execution_count": 0,
      "outputs": []
    },
    {
      "cell_type": "code",
      "metadata": {
        "id": "jNnAyd8TN_ca",
        "colab_type": "code",
        "colab": {}
      },
      "source": [
        "sys.initial_condition = [5, -3, 1]\n",
        "res = BD.simulate(10)"
      ],
      "execution_count": 0,
      "outputs": []
    }
  ]
}