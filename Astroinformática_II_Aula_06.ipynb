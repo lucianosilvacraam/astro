{
  "nbformat": 4,
  "nbformat_minor": 0,
  "metadata": {
    "colab": {
      "name": "Astroinformática II - Aula 06.ipynb",
      "version": "0.3.2",
      "provenance": [],
      "collapsed_sections": [],
      "include_colab_link": true
    },
    "kernelspec": {
      "name": "python3",
      "display_name": "Python 3"
    }
  },
  "cells": [
    {
      "cell_type": "markdown",
      "metadata": {
        "id": "view-in-github",
        "colab_type": "text"
      },
      "source": [
        "<a href=\"https://colab.research.google.com/github/lucianosilvacraam/astro/blob/master/Astroinform%C3%A1tica_II_Aula_06.ipynb\" target=\"_parent\"><img src=\"https://colab.research.google.com/assets/colab-badge.svg\" alt=\"Open In Colab\"/></a>"
      ]
    },
    {
      "cell_type": "markdown",
      "metadata": {
        "id": "lfWDORJSmpRD",
        "colab_type": "text"
      },
      "source": [
        "**ASTROINFORMÁTICA II - AULA 06:** MODELOS DETERMINÍSTICOS "
      ]
    },
    {
      "cell_type": "code",
      "metadata": {
        "id": "yZ1lSzhHl-wn",
        "colab_type": "code",
        "colab": {}
      },
      "source": [
        "!pip install obspy"
      ],
      "execution_count": 0,
      "outputs": []
    },
    {
      "cell_type": "markdown",
      "metadata": {
        "id": "dbQkLee_uakM",
        "colab_type": "text"
      },
      "source": [
        "\n",
        "*   Método matemático de Buland & Chapman: http://geo.mff.cuni.cz/seismosoft/taup/1983_BSSA_Buland_Chapman_Travel_times.pdf\n",
        "*   Artigo original da implementação: http://geo.mff.cuni.cz/seismosoft/taup/CrotwelletalSRL1999.pdf\n",
        "\n",
        "\n"
      ]
    },
    {
      "cell_type": "markdown",
      "metadata": {
        "id": "vyK1D_5-CuRk",
        "colab_type": "text"
      },
      "source": [
        ""
      ]
    },
    {
      "cell_type": "markdown",
      "metadata": {
        "id": "-yOoaQN27t1a",
        "colab_type": "text"
      },
      "source": [
        "### **MODELO COMPUTACIONAL**"
      ]
    },
    {
      "cell_type": "code",
      "metadata": {
        "id": "zHJq8E0knWee",
        "colab_type": "code",
        "colab": {}
      },
      "source": [
        "from obspy.taup import TauPyModel\n",
        "model = TauPyModel(model=\"iasp91\")"
      ],
      "execution_count": 0,
      "outputs": []
    },
    {
      "cell_type": "code",
      "metadata": {
        "id": "e2f2BRh2n5aV",
        "colab_type": "code",
        "colab": {}
      },
      "source": [
        "arrivals = model.get_travel_times(source_depth_in_km=500,distance_in_degree=130)\n",
        "print(arrivals)  "
      ],
      "execution_count": 0,
      "outputs": []
    },
    {
      "cell_type": "code",
      "metadata": {
        "id": "2eLwXkPcoTeF",
        "colab_type": "code",
        "colab": {}
      },
      "source": [
        "arrivals = model.get_ray_paths(source_depth_in_km=500, distance_in_degree=130, phase_list=[\"ttbasic\"])\n",
        "ax = arrivals.plot_rays()"
      ],
      "execution_count": 0,
      "outputs": []
    },
    {
      "cell_type": "code",
      "metadata": {
        "id": "CwibI10-ohrr",
        "colab_type": "code",
        "colab": {}
      },
      "source": [
        "arrivals = model.get_ray_paths(source_depth_in_km=500,\n",
        "                               distance_in_degree=130,\n",
        "                               phase_list=[\"PP\", \"SSS\"])\n",
        "                                           \n",
        "ax = arrivals.plot_rays(plot_type='spherical',phase_list=[\"PP\", \"SSS\"], legend=True)"
      ],
      "execution_count": 0,
      "outputs": []
    },
    {
      "cell_type": "code",
      "metadata": {
        "id": "iSGCF4V_tiAX",
        "colab_type": "code",
        "colab": {}
      },
      "source": [
        "arrivals = model.get_ray_paths(source_depth_in_km=500,\n",
        "                               distance_in_degree=130,\n",
        "                               phase_list=['PP', 'SSS'])\n",
        "ax = arrivals.plot_rays(plot_type=\"cartesian\",phase_list=['PP', 'SSS'], plot_all=False, legend=True)"
      ],
      "execution_count": 0,
      "outputs": []
    },
    {
      "cell_type": "code",
      "metadata": {
        "id": "5KQ1F2Wo3cDN",
        "colab_type": "code",
        "colab": {}
      },
      "source": [
        "from obspy.taup import plot_travel_times\n",
        "import matplotlib.pyplot as plt\n",
        "%matplotlib inline\n",
        "\n",
        "fig, ax = plt.subplots()\n",
        "ax = plot_travel_times(source_depth=55,ax=ax, fig=fig,phase_list=['PP', 'SS'], npoints=200)"
      ],
      "execution_count": 0,
      "outputs": []
    },
    {
      "cell_type": "code",
      "metadata": {
        "id": "upBaXZcC82bj",
        "colab_type": "code",
        "colab": {}
      },
      "source": [
        "import numpy as np\n",
        "PHASES = [\n",
        "    # Phase, distance\n",
        "    ('P', 26),\n",
        "    ('PP', 60),\n",
        "    ('PPP', 94),\n",
        "    ('PPS', 155),\n",
        "    ('p', 3),\n",
        "    ('pPcP', 100),\n",
        "    ('PKIKP', 170),\n",
        "    ('PKJKP', 194),\n",
        "    ('S', 65),\n",
        "    ('SP', 85),\n",
        "    ('SS', 134.5),\n",
        "    ('SSS', 204),\n",
        "    ('p', -10),\n",
        "    ('pP', -37.5),\n",
        "    ('s', -3),\n",
        "    ('sP', -49),\n",
        "    ('ScS', -44),\n",
        "    ('SKS', -82),\n",
        "    ('SKKS', -120),\n",
        "]\n",
        "\n",
        "model = TauPyModel(model='iasp91')\n",
        "\n",
        "fig, ax = plt.subplots(subplot_kw=dict(polar=True))\n",
        "\n",
        "# Plot all pre-determined phases\n",
        "for phase, distance in PHASES:\n",
        "    arrivals = model.get_ray_paths(700, distance, phase_list=[phase])\n",
        "    ax = arrivals.plot_rays(plot_type='spherical',\n",
        "                            legend=False, label_arrivals=True,\n",
        "                            plot_all=True,\n",
        "                            show=False, ax=ax)\n",
        "\n",
        "# Annotate regions\n",
        "ax.text(0, 0, 'Solid\\ninner\\ncore',\n",
        "        horizontalalignment='center', verticalalignment='center',\n",
        "        bbox=dict(facecolor='white', edgecolor='none', alpha=0.7))\n",
        "ocr = (model.model.radius_of_planet -\n",
        "       (model.model.s_mod.v_mod.iocb_depth +\n",
        "        model.model.s_mod.v_mod.cmb_depth) / 2)\n",
        "ax.text(np.deg2rad(180), ocr, 'Fluid outer core',\n",
        "        horizontalalignment='center',\n",
        "        bbox=dict(facecolor='white', edgecolor='none', alpha=0.7))\n",
        "mr = model.model.radius_of_planet - model.model.s_mod.v_mod.cmb_depth / 2\n",
        "ax.text(np.deg2rad(180), mr, 'Solid mantle',\n",
        "        horizontalalignment='center',\n",
        "        bbox=dict(facecolor='white', edgecolor='none', alpha=0.7))\n",
        "\n",
        "plt.show()"
      ],
      "execution_count": 0,
      "outputs": []
    }
  ]
}