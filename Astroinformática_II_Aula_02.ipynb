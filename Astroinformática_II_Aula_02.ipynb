{
  "nbformat": 4,
  "nbformat_minor": 0,
  "metadata": {
    "colab": {
      "name": "Astroinformática II - Aula 02.ipynb",
      "version": "0.3.2",
      "provenance": [],
      "include_colab_link": true
    },
    "kernelspec": {
      "name": "python3",
      "display_name": "Python 3"
    }
  },
  "cells": [
    {
      "cell_type": "markdown",
      "metadata": {
        "id": "view-in-github",
        "colab_type": "text"
      },
      "source": [
        "<a href=\"https://colab.research.google.com/github/lucianosilvacraam/astro/blob/master/Astroinform%C3%A1tica_II_Aula_02.ipynb\" target=\"_parent\"><img src=\"https://colab.research.google.com/assets/colab-badge.svg\" alt=\"Open In Colab\"/></a>"
      ]
    },
    {
      "cell_type": "markdown",
      "metadata": {
        "id": "dJg3K6FNxlcY",
        "colab_type": "text"
      },
      "source": [
        "**Tópicos da Aula:** Construção de Modelos, Inicialização, Simulação"
      ]
    },
    {
      "cell_type": "code",
      "metadata": {
        "id": "hVCEBoLdtDi3",
        "colab_type": "code",
        "colab": {}
      },
      "source": [
        "!pip install batman-package"
      ],
      "execution_count": 0,
      "outputs": []
    },
    {
      "cell_type": "markdown",
      "metadata": {
        "id": "xExut7aExVBY",
        "colab_type": "text"
      },
      "source": [
        "**Importação dos Módulos**"
      ]
    },
    {
      "cell_type": "code",
      "metadata": {
        "id": "sPbyDH1WxUGQ",
        "colab_type": "code",
        "colab": {}
      },
      "source": [
        "import batman\n",
        "import numpy as np\n",
        "import matplotlib.pyplot as plt\n",
        "%matplotlib inline"
      ],
      "execution_count": 0,
      "outputs": []
    },
    {
      "cell_type": "markdown",
      "metadata": {
        "id": "iLDEukdUxem_",
        "colab_type": "text"
      },
      "source": [
        "**Construção do Modelo de Trânsito**"
      ]
    },
    {
      "cell_type": "code",
      "metadata": {
        "id": "mCqWq6MIxfUv",
        "colab_type": "code",
        "colab": {}
      },
      "source": [
        "params = batman.TransitParams()\n",
        "params.t0 = 0.                       #time of inferior conjunction\n",
        "params.per = 1.                      #orbital period\n",
        "params.rp = 0.1                      #planet radius (in units of stellar radii)\n",
        "params.a = 15.                       #semi-major axis (in units of stellar radii)\n",
        "params.inc = 87.                     #orbital inclination (in degrees)\n",
        "params.ecc = 0.                      #eccentricity\n",
        "params.w = 90.                       #longitude of periastron (in degrees)\n",
        "params.u = [0.1, 0.3]                #limb darkening coefficients [u1, u2]\n",
        "params.limb_dark = \"quadratic\"       #limb darkening model"
      ],
      "execution_count": 0,
      "outputs": []
    },
    {
      "cell_type": "markdown",
      "metadata": {
        "id": "ydGAgeUXyVaP",
        "colab_type": "text"
      },
      "source": [
        "**Inicialização do Modelo de Trânsito**"
      ]
    },
    {
      "cell_type": "code",
      "metadata": {
        "id": "cgdXu6uByV0V",
        "colab_type": "code",
        "colab": {}
      },
      "source": [
        "t = np.linspace(-0.05, 0.05, 100)\n",
        "m = batman.TransitModel(params, t)"
      ],
      "execution_count": 0,
      "outputs": []
    },
    {
      "cell_type": "markdown",
      "metadata": {
        "id": "4DMF4hHyytPj",
        "colab_type": "text"
      },
      "source": [
        "**Simulação do Modelo de Trânsito**"
      ]
    },
    {
      "cell_type": "code",
      "metadata": {
        "id": "a4xOXUKOyteE",
        "colab_type": "code",
        "colab": {}
      },
      "source": [
        "flux = m.light_curve(params)"
      ],
      "execution_count": 0,
      "outputs": []
    },
    {
      "cell_type": "markdown",
      "metadata": {
        "id": "1PzufAj0yusj",
        "colab_type": "text"
      },
      "source": [
        "**Exibição dos Resultados da Simulação**"
      ]
    },
    {
      "cell_type": "code",
      "metadata": {
        "id": "zsje4qSNyvAj",
        "colab_type": "code",
        "colab": {}
      },
      "source": [
        "plt.xlabel(\"Time from central transit\")\n",
        "plt.ylabel(\"Relative flux\")\n",
        "plt.plot(t, flux)"
      ],
      "execution_count": 0,
      "outputs": []
    },
    {
      "cell_type": "markdown",
      "metadata": {
        "id": "UbJuLXxA2Bg8",
        "colab_type": "text"
      },
      "source": [
        "\n",
        "**Simulação com diferentes raios do planeta**"
      ]
    },
    {
      "cell_type": "code",
      "metadata": {
        "id": "L4g---Os2CEw",
        "colab_type": "code",
        "colab": {}
      },
      "source": [
        "params = batman.TransitParams()       #object to store transit parameters\n",
        "params.t0 = 0.                        #time of inferior conjunction\n",
        "params.per = 1.                       #orbital period\n",
        "params.rp = 0.1                       #planet radius (in units of stellar radii)\n",
        "params.a = 15.                        #semi-major axis (in units of stellar radii)\n",
        "params.inc = 87.                      #orbital inclination (in degrees)\n",
        "params.ecc = 0.                       #eccentricity\n",
        "params.w = 90.                        #longitude of periastron (in degrees)\n",
        "params.u = [0.1, 0.3]                #limb darkening coefficients [u1, u2]\n",
        "params.limb_dark = \"quadratic\"       #limb darkening model\n",
        "\n",
        "t = np.linspace(-0.05, 0.05, 100)        #times at which to calculate light curve\n",
        "m = batman.TransitModel(params, t)    #initializes model\n",
        "\n",
        "radii = np.linspace(0.09, 0.11, 20)\n",
        "for r in radii:\n",
        "        params.rp = r                           #updates planet radius\n",
        "        flux = m.light_curve(params)            #recalculates light curve\n",
        "        plt.plot(t,flux)"
      ],
      "execution_count": 0,
      "outputs": []
    },
    {
      "cell_type": "markdown",
      "metadata": {
        "id": "rpX0hBCQ6U_M",
        "colab_type": "text"
      },
      "source": [
        "**Simulação com diferentes escurecimentos de limbo**"
      ]
    },
    {
      "cell_type": "code",
      "metadata": {
        "id": "F6yIGMgT6WHC",
        "colab_type": "code",
        "colab": {}
      },
      "source": [
        "params = batman.TransitParams()       #object to store transit parameters\n",
        "params.t0 = 0.                        #time of inferior conjunction\n",
        "params.per = 1.                       #orbital period\n",
        "params.rp = 0.1                       #planet radius (in units of stellar radii)\n",
        "params.a = 15.                        #semi-major axis (in units of stellar radii)\n",
        "params.inc = 87.                      #orbital inclination (in degrees)\n",
        "params.ecc = 0.                       #eccentricity\n",
        "params.w = 90.                        #longitude of periastron (in degrees)\n",
        "params.u = [0.1, 0.3]                #limb darkening coefficients [u1, u2]\n",
        "params.limb_dark = \"quadratic\"       #limb darkening model\n",
        "\n",
        "t = np.linspace(-0.05, 0.05, 100)        #times at which to calculate light curve\n",
        "m = batman.TransitModel(params, t)    #initializes model\n",
        "\n",
        "ld_options = [\"uniform\", \"linear\", \"quadratic\", \"nonlinear\"]\n",
        "ld_coefficients = [[], [0.3], [0.1, 0.3], [0.5, 0.1, 0.1, -0.1]]\n",
        "\n",
        "\n",
        "for i in range(4):\n",
        "        params.limb_dark = ld_options[i]          #specifies the LD profile\n",
        "        params.u = ld_coefficients[i]             #updates LD coefficients\n",
        "        m = batman.TransitModel(params, t)        #initializes the model\n",
        "        flux = m.light_curve(params)              #calculates light curve\n",
        "        plt.plot(t, flux, label = ld_options[i])"
      ],
      "execution_count": 0,
      "outputs": []
    }
  ]
}