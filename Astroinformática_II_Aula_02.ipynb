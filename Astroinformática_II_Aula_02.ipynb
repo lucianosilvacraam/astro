{
  "nbformat": 4,
  "nbformat_minor": 0,
  "metadata": {
    "colab": {
      "name": "Astroinformática II - Aula 02.ipynb",
      "version": "0.3.2",
      "provenance": [],
      "include_colab_link": true
    },
    "kernelspec": {
      "name": "python3",
      "display_name": "Python 3"
    }
  },
  "cells": [
    {
      "cell_type": "markdown",
      "metadata": {
        "id": "view-in-github",
        "colab_type": "text"
      },
      "source": [
        "<a href=\"https://colab.research.google.com/github/lucianosilvacraam/astro/blob/master/Astroinform%C3%A1tica_II_Aula_02.ipynb\" target=\"_parent\"><img src=\"https://colab.research.google.com/assets/colab-badge.svg\" alt=\"Open In Colab\"/></a>"
      ]
    },
    {
      "cell_type": "markdown",
      "metadata": {
        "id": "dJg3K6FNxlcY",
        "colab_type": "text"
      },
      "source": [
        "**Tópicos da Aula:** Construção de Modelos, Inicialização, Simulação"
      ]
    },
    {
      "cell_type": "code",
      "metadata": {
        "id": "hVCEBoLdtDi3",
        "colab_type": "code",
        "colab": {
          "base_uri": "https://localhost:8080/",
          "height": 219
        },
        "outputId": "4e1c734b-c69d-4a00-fc96-e589e2c33df0"
      },
      "source": [
        "!pip install batman-package"
      ],
      "execution_count": 1,
      "outputs": [
        {
          "output_type": "stream",
          "text": [
            "Collecting batman-package\n",
            "  Downloading https://files.pythonhosted.org/packages/f3/59/a1ca181cafde7c99099da61cd578efc90c4319899a0c31c72241d50b0783/batman-package-2.4.6.tar.gz\n",
            "Requirement already satisfied: numpy in /usr/local/lib/python3.6/dist-packages (from batman-package) (1.16.4)\n",
            "Building wheels for collected packages: batman-package\n",
            "  Building wheel for batman-package (setup.py) ... \u001b[?25l\u001b[?25hdone\n",
            "  Created wheel for batman-package: filename=batman_package-2.4.6-cp36-cp36m-linux_x86_64.whl size=212652 sha256=9ce8f5ef64851ccf867fcf56cc82f7f629a2977bfb1d593be4cb4496b353133f\n",
            "  Stored in directory: /root/.cache/pip/wheels/f6/1e/90/3b68a7004b60a358389fe48c9f9f9c0d7293e01ea562f7116f\n",
            "Successfully built batman-package\n",
            "Installing collected packages: batman-package\n",
            "Successfully installed batman-package-2.4.6\n"
          ],
          "name": "stdout"
        }
      ]
    },
    {
      "cell_type": "markdown",
      "metadata": {
        "id": "xExut7aExVBY",
        "colab_type": "text"
      },
      "source": [
        "**Importação dos Módulos**"
      ]
    },
    {
      "cell_type": "code",
      "metadata": {
        "id": "sPbyDH1WxUGQ",
        "colab_type": "code",
        "colab": {}
      },
      "source": [
        "import batman\n",
        "import numpy as np\n",
        "import matplotlib.pyplot as plt\n",
        "%matplotlib inline"
      ],
      "execution_count": 0,
      "outputs": []
    },
    {
      "cell_type": "markdown",
      "metadata": {
        "id": "iLDEukdUxem_",
        "colab_type": "text"
      },
      "source": [
        "**Construção do Modelo de Trânsito**"
      ]
    },
    {
      "cell_type": "code",
      "metadata": {
        "id": "mCqWq6MIxfUv",
        "colab_type": "code",
        "colab": {}
      },
      "source": [
        "params = batman.TransitParams()\n",
        "params.t0 = 0.                       #time of inferior conjunction\n",
        "params.per = 1218.                      #orbital period\n",
        "params.rp = 0.1                      #planet radius (in units of stellar radii)\n",
        "params.a = 2.69                       #semi-major axis (in units of stellar radii)\n",
        "params.inc = 87.                     #orbital inclination (in degrees)\n",
        "params.ecc = 0.24                      #eccentricity\n",
        "params.w = 90.                       #longitude of periastron (in degrees)\n",
        "params.u = [0.1, 0.3]                #limb darkening coefficients [u1, u2]\n",
        "params.limb_dark = \"quadratic\"       #limb darkening model"
      ],
      "execution_count": 0,
      "outputs": []
    },
    {
      "cell_type": "markdown",
      "metadata": {
        "id": "ydGAgeUXyVaP",
        "colab_type": "text"
      },
      "source": [
        "**Inicialização do Modelo de Trânsito**"
      ]
    },
    {
      "cell_type": "code",
      "metadata": {
        "id": "cgdXu6uByV0V",
        "colab_type": "code",
        "colab": {}
      },
      "source": [
        "t = np.linspace(-100., 100., 100)\n",
        "m = batman.TransitModel(params, t)"
      ],
      "execution_count": 0,
      "outputs": []
    },
    {
      "cell_type": "markdown",
      "metadata": {
        "id": "4DMF4hHyytPj",
        "colab_type": "text"
      },
      "source": [
        "**Simulação do Modelo de Trânsito**"
      ]
    },
    {
      "cell_type": "code",
      "metadata": {
        "id": "a4xOXUKOyteE",
        "colab_type": "code",
        "colab": {}
      },
      "source": [
        "flux = m.light_curve(params)\n",
        "#print(flux)"
      ],
      "execution_count": 0,
      "outputs": []
    },
    {
      "cell_type": "markdown",
      "metadata": {
        "id": "1PzufAj0yusj",
        "colab_type": "text"
      },
      "source": [
        "**Exibição dos Resultados da Simulação**"
      ]
    },
    {
      "cell_type": "code",
      "metadata": {
        "id": "zsje4qSNyvAj",
        "colab_type": "code",
        "colab": {
          "base_uri": "https://localhost:8080/",
          "height": 301
        },
        "outputId": "4f460f09-3cc2-42aa-d20a-0e31e19ff9eb"
      },
      "source": [
        "plt.xlabel(\"Time from central transit\")\n",
        "plt.ylabel(\"Relative flux\")\n",
        "plt.plot(t, flux)"
      ],
      "execution_count": 14,
      "outputs": [
        {
          "output_type": "execute_result",
          "data": {
            "text/plain": [
              "[<matplotlib.lines.Line2D at 0x7f61fd0c6c18>]"
            ]
          },
          "metadata": {
            "tags": []
          },
          "execution_count": 14
        },
        {
          "output_type": "display_data",
          "data": {
            "image/png": "[encoded data removed]",
            "text/plain": [
              "<Figure size 432x288 with 1 Axes>"
            ]
          },
          "metadata": {
            "tags": []
          }
        }
      ]
    },
    {
      "cell_type": "markdown",
      "metadata": {
        "id": "UbJuLXxA2Bg8",
        "colab_type": "text"
      },
      "source": [
        "\n",
        "**Simulação com diferentes raios do planeta**"
      ]
    },
    {
      "cell_type": "code",
      "metadata": {
        "id": "L4g---Os2CEw",
        "colab_type": "code",
        "colab": {
          "base_uri": "https://localhost:8080/",
          "height": 269
        },
        "outputId": "d6e6005d-6599-4f93-fff9-bea5db7e92c4"
      },
      "source": [
        "params = batman.TransitParams()       #object to store transit parameters\n",
        "params.t0 = 0.                        #time of inferior conjunction\n",
        "params.per = 1.                       #orbital period\n",
        "params.rp = 0.1                       #planet radius (in units of stellar radii)\n",
        "params.a = 15.                        #semi-major axis (in units of stellar radii)\n",
        "params.inc = 87.                      #orbital inclination (in degrees)\n",
        "params.ecc = 0.                       #eccentricity\n",
        "params.w = 90.                        #longitude of periastron (in degrees)\n",
        "params.u = [0.1, 0.3]                #limb darkening coefficients [u1, u2]\n",
        "params.limb_dark = \"quadratic\"       #limb darkening model\n",
        "\n",
        "t = np.linspace(-0.05, 0.05, 100)        #times at which to calculate light curve\n",
        "m = batman.TransitModel(params, t)    #initializes model\n",
        "\n",
        "radii = np.linspace(0.09, 0.11, 20)\n",
        "for r in radii:\n",
        "        params.rp = r                           #updates planet radius\n",
        "        flux = m.light_curve(params)            #recalculates light curve\n",
        "        plt.plot(t,flux)"
      ],
      "execution_count": 15,
      "outputs": [
        {
          "output_type": "display_data",
          "data": {
            "image/png": "[encoded data removed]",
            "text/plain": [
              "<Figure size 432x288 with 1 Axes>"
            ]
          },
          "metadata": {
            "tags": []
          }
        }
      ]
    },
    {
      "cell_type": "markdown",
      "metadata": {
        "id": "rpX0hBCQ6U_M",
        "colab_type": "text"
      },
      "source": [
        "**Simulação com diferentes escurecimentos de limbo**"
      ]
    },
    {
      "cell_type": "code",
      "metadata": {
        "id": "F6yIGMgT6WHC",
        "colab_type": "code",
        "colab": {
          "base_uri": "https://localhost:8080/",
          "height": 287
        },
        "outputId": "3b1f9f23-d6b4-4019-9d16-c9242d245655"
      },
      "source": [
        "params = batman.TransitParams()       #object to store transit parameters\n",
        "params.t0 = 0.                        #time of inferior conjunction\n",
        "params.per = 1.                       #orbital period\n",
        "params.rp = 0.1                       #planet radius (in units of stellar radii)\n",
        "params.a = 15.                        #semi-major axis (in units of stellar radii)\n",
        "params.inc = 87.                      #orbital inclination (in degrees)\n",
        "params.ecc = 0.                       #eccentricity\n",
        "params.w = 90.                        #longitude of periastron (in degrees)\n",
        "params.u = [0.1, 0.3]                #limb darkening coefficients [u1, u2]\n",
        "params.limb_dark = \"quadratic\"       #limb darkening model\n",
        "\n",
        "t = np.linspace(-0.05, 0.05, 100)        #times at which to calculate light curve\n",
        "m = batman.TransitModel(params, t)    #initializes model\n",
        "\n",
        "ld_options = [\"uniform\", \"linear\", \"quadratic\", \"nonlinear\"]\n",
        "ld_coefficients = [[], [0.3], [0.1, 0.3], [0.5, 0.1, 0.1, -0.1]]\n",
        "\n",
        "\n",
        "for i in range(4):\n",
        "        params.limb_dark = ld_options[i]          #specifies the LD profile\n",
        "        params.u = ld_coefficients[i]             #updates LD coefficients\n",
        "        m = batman.TransitModel(params, t)        #initializes the model\n",
        "        flux = m.light_curve(params)              #calculates light curve\n",
        "        plt.plot(t, flux, label = ld_options[i])\n",
        "plt.legend()"
      ],
      "execution_count": 17,
      "outputs": [
        {
          "output_type": "execute_result",
          "data": {
            "text/plain": [
              "<matplotlib.legend.Legend at 0x7f61fcfbdda0>"
            ]
          },
          "metadata": {
            "tags": []
          },
          "execution_count": 17
        },
        {
          "output_type": "display_data",
          "data": {
            "image/png": "[encoded data removed]",
            "text/plain": [
              "<Figure size 432x288 with 1 Axes>"
            ]
          },
          "metadata": {
            "tags": []
          }
        }
      ]
    },
    {
      "cell_type": "code",
      "metadata": {
        "id": "XhpMdDpOoSyw",
        "colab_type": "code",
        "colab": {
          "base_uri": "https://localhost:8080/",
          "height": 245
        },
        "outputId": "89ca66b0-d5ac-4d40-e328-9f63f6fd7430"
      },
      "source": [
        "!pip install ellc"
      ],
      "execution_count": 18,
      "outputs": [
        {
          "output_type": "stream",
          "text": [
            "Collecting ellc\n",
            "\u001b[?25l  Downloading https://files.pythonhosted.org/packages/3b/6d/3527e9d92cc5941bcdc1422a98ed2a20ea4ae10feee61b98ebe91e6843e3/ellc-1.8.5.tar.gz (13.7MB)\n",
            "\u001b[K     |████████████████████████████████| 13.7MB 3.8MB/s \n",
            "\u001b[?25hRequirement already satisfied: numpy>=1.10.0 in /usr/local/lib/python3.6/dist-packages (from ellc) (1.16.4)\n",
            "Requirement already satisfied: astropy>=1.1.1 in /usr/local/lib/python3.6/dist-packages (from ellc) (3.0.5)\n",
            "Building wheels for collected packages: ellc\n",
            "  Building wheel for ellc (setup.py) ... \u001b[?25l\u001b[?25hdone\n",
            "  Created wheel for ellc: filename=ellc-1.8.5-cp36-cp36m-linux_x86_64.whl size=14093057 sha256=35cdecdb0305ce174b19f13e3877ade2169592291c6d8f922bd2d9e0c8ede700\n",
            "  Stored in directory: /root/.cache/pip/wheels/83/97/04/1f2ecf5f89f894ddf2cf4a70f6bcf216df410376b86f2d0ec9\n",
            "Successfully built ellc\n",
            "Installing collected packages: ellc\n",
            "Successfully installed ellc-1.8.5\n"
          ],
          "name": "stdout"
        }
      ]
    }
  ]
}